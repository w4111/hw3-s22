{
 "cells": [
  {
   "cell_type": "markdown",
   "metadata": {
    "id": "a9FYpJZQttQs"
   },
   "source": [
    "# Assignment description\n",
    "\n",
    "In this assignment, you will be performing more complex analysis using the full iowa dataset.   In contrast to previous assignments, where we directly wrote SQL queries using the magic `%%sql` cells, we will be directly connecting to the database and running queries through the Python database client.   This is how the magic `%%sql` cells are implemented under the covers anyways.\n",
    "\n",
    "We will also be using [DuckDB](https://duckdb.org/), a new database system designed for analytics.  It is very similar to the SQLite database we have used in the past, however it is _must faster_ when analyzing the entire dataset."
   ]
  },
  {
   "cell_type": "markdown",
   "metadata": {
    "id": "Enj1IuMfkJ6n"
   },
   "source": [
    "# Setup code \n",
    "The following three blocks only need to run once.   It will install duckdb, download the data files, and load it into duckdb.\n",
    "\n"
   ]
  },
  {
   "cell_type": "code",
   "execution_count": 1,
   "metadata": {
    "id": "IKHoo-5xeKm9",
    "scrolled": true
   },
   "outputs": [
    {
     "name": "stdout",
     "output_type": "stream",
     "text": [
      "Traceback (most recent call last):\n",
      "  File \"/usr/local/bin/pip\", line 6, in <module>\n",
      "    from pip._internal.cli.main import main\n",
      "ModuleNotFoundError: No module named 'pip._internal.cli.main'\n",
      "fish: No matches for wildcard 'iowa.csv*'. See `help expand`.\n",
      "rm iowa.csv* iowa.duckdb*\n",
      "   ^\n",
      "--2022-01-27 21:12:39--  https://www.dropbox.com/s/0f4g8xa5m2s898i/iowa.csv\n",
      "Resolving www.dropbox.com (www.dropbox.com)... 162.125.6.18\n",
      "Connecting to www.dropbox.com (www.dropbox.com)|162.125.6.18|:443... connected.\n",
      "HTTP request sent, awaiting response... 301 Moved Permanently\n",
      "Location: /s/raw/0f4g8xa5m2s898i/iowa.csv [following]\n",
      "--2022-01-27 21:12:39--  https://www.dropbox.com/s/raw/0f4g8xa5m2s898i/iowa.csv\n",
      "Reusing existing connection to www.dropbox.com:443.\n",
      "HTTP request sent, awaiting response... 302 Found\n",
      "Location: https://uc9a6d7c54db13916438316c7b22.dl.dropboxusercontent.com/cd/0/inline/BekwgcqNm6cDqbsV4GgLnPB7pZsiREk47EbsmitVnoJhD9t5Vu62NIHu5G1vdcy8ssDPVToTfT_EYVNsvMhm0SYPeBjgWjF6KASHapA8XgOmIx-B7R1eUPKFwhRHM49Y92PbPVx8Mhfq9KowSF6UkBjv/file# [following]\n",
      "--2022-01-27 21:12:40--  https://uc9a6d7c54db13916438316c7b22.dl.dropboxusercontent.com/cd/0/inline/BekwgcqNm6cDqbsV4GgLnPB7pZsiREk47EbsmitVnoJhD9t5Vu62NIHu5G1vdcy8ssDPVToTfT_EYVNsvMhm0SYPeBjgWjF6KASHapA8XgOmIx-B7R1eUPKFwhRHM49Y92PbPVx8Mhfq9KowSF6UkBjv/file\n",
      "Resolving uc9a6d7c54db13916438316c7b22.dl.dropboxusercontent.com (uc9a6d7c54db13916438316c7b22.dl.dropboxusercontent.com)... 162.125.6.15\n",
      "Connecting to uc9a6d7c54db13916438316c7b22.dl.dropboxusercontent.com (uc9a6d7c54db13916438316c7b22.dl.dropboxusercontent.com)|162.125.6.15|:443... connected.\n",
      "HTTP request sent, awaiting response... 200 OK\n",
      "Length: 322749695 (308M) [text/plain]\n",
      "Saving to: ‘iowa.csv’\n",
      "\n",
      "iowa.csv            100%[===================>] 307.80M  11.7MB/s    in 24s     \n",
      "\n",
      "2022-01-27 21:13:04 (12.8 MB/s) - ‘iowa.csv’ saved [322749695/322749695]\n",
      "\n"
     ]
    }
   ],
   "source": [
    "!pip install duckdb\n",
    "!rm iowa.csv* iowa.duckdb*\n",
    "!wget https://www.dropbox.com/s/0f4g8xa5m2s898i/iowa.csv"
   ]
  },
  {
   "cell_type": "code",
   "execution_count": 2,
   "metadata": {
    "id": "kfx6ZBtvfzyN"
   },
   "outputs": [
    {
     "data": {
      "text/plain": [
       "<duckdb.DuckDBPyConnection at 0x7fad46eac7f0>"
      ]
     },
     "execution_count": 2,
     "metadata": {},
     "output_type": "execute_result"
    }
   ],
   "source": [
    "import duckdb\n",
    "db = duckdb.connect('iowa.db')\n",
    "db.execute(\"CREATE TABLE iowa AS SELECT * FROM read_csv_auto('iowa.csv')\")"
   ]
  },
  {
   "cell_type": "code",
   "execution_count": 3,
   "metadata": {
    "executionInfo": {
     "elapsed": 135,
     "status": "ok",
     "timestamp": 1642098551016,
     "user": {
      "displayName": "Eugene Wu",
      "photoUrl": "https://lh3.googleusercontent.com/a-/AOh14Gj9qqlMfUs2F6tn5jT3Gxzqkd5IP8SZ6t4sHKzs-Q=s64",
      "userId": "16895525559833652316"
     },
     "user_tz": 300
    },
    "id": "zuxbm2SgjyOm"
   },
   "outputs": [],
   "source": [
    "def runq(q):\n",
    "  \"I'm helper function to run and print queries\"\n",
    "  cursor = db.execute(q)\n",
    "  df = cursor.fetchdf()\n",
    "  print(df)\n",
    "  return df\n"
   ]
  },
  {
   "cell_type": "markdown",
   "metadata": {
    "id": "YUB9SBUqeKnA"
   },
   "source": [
    "### **Q1.1** Which store had the most sales in terms of total records in the table?"
   ]
  },
  {
   "cell_type": "code",
   "execution_count": null,
   "metadata": {
    "id": "U2v3CbKVeKnC"
   },
   "outputs": [],
   "source": [
    "q11 = \"\"\"\n",
    "select store, count(1)\n",
    "from iowa\n",
    "group by store\n",
    "order by count(1) desc\n",
    "limit 1;\n",
    "\"\"\"\n",
    "runq(q11)"
   ]
  },
  {
   "cell_type": "markdown",
   "metadata": {
    "id": "UgA9Gu86eKnD"
   },
   "source": [
    "### Answer\n",
    "\n",
    "store 2633\n",
    "\n",
    "count 8934"
   ]
  },
  {
   "cell_type": "markdown",
   "metadata": {
    "id": "aecOg7uZeKnE"
   },
   "source": [
    "### **Q1.2** At the store with the most total records (answer to Q1.1), what was the vendor number with most sale records? (The vendor that has the most records in the table?)"
   ]
  },
  {
   "cell_type": "code",
   "execution_count": null,
   "metadata": {
    "id": "Qa-tCCcleKnF"
   },
   "outputs": [],
   "source": [
    "q12 = \"\"\"\n",
    "select vendor_no, count(1)\n",
    "from iowa\n",
    "where store = 2633\n",
    "group by vendor_no\n",
    "order by count(1) desc\n",
    "limit 1;\n",
    "\"\"\"\n",
    "runq(q12)"
   ]
  },
  {
   "cell_type": "markdown",
   "metadata": {
    "id": "1esfSQyxeKnG"
   },
   "source": [
    "### Answer\n",
    "\n",
    "vendor_no 260\n",
    "\n",
    "count 1509"
   ]
  },
  {
   "cell_type": "markdown",
   "metadata": {
    "id": "aQhPq5b6eKnH"
   },
   "source": [
    "### **Q1.3**: For each zipcode, compute the single most purchased category_name by total `sale_bottles`.\n",
    "\n",
    "a. We first need to get have a table with aggregated sale_bottles groupped by zipcode & category_name"
   ]
  },
  {
   "cell_type": "code",
   "execution_count": null,
   "metadata": {
    "id": "DHkCMw3seKnI"
   },
   "outputs": [],
   "source": [
    "q13a = \"\"\"CREATE OR REPLACE VIEW zip_cate_sum AS \n",
    "    SELECT zipcode, category_name, sum(sale_bottles) sum_qty\n",
    "    FROM iowa\n",
    "    GROUP BY zipcode, category_name\n",
    "\"\"\"\n",
    "runq(q13a)"
   ]
  },
  {
   "cell_type": "markdown",
   "metadata": {
    "id": "gcWPCTAFeKnI"
   },
   "source": [
    "b. With `zip_cate_sum` table, we can get the max `sum_qty` in a given zipcode with other groupby"
   ]
  },
  {
   "cell_type": "code",
   "execution_count": null,
   "metadata": {
    "id": "c6kifdICeKnJ"
   },
   "outputs": [],
   "source": [
    "q13b = \"\"\"CREATE OR REPLACE VIEW zip_cate_sum_max AS (\n",
    "    SELECT zcs.zipcode, max(zcs.sum_qty) max_qty\n",
    "    FROM zip_cate_sum zcs\n",
    "    GROUP BY zcs.zipcode\n",
    ")\"\"\"\n",
    "runq(q13b)"
   ]
  },
  {
   "cell_type": "markdown",
   "metadata": {
    "id": "C4KwbvxQeKnJ"
   },
   "source": [
    "c. use max bottle_qty sum and zipcode information, we can join above two tables to get category_name,\n",
    "and use `ORDER BY` and `LIMIT` for expected output"
   ]
  },
  {
   "cell_type": "code",
   "execution_count": null,
   "metadata": {
    "id": "jSCiBhuXeKnJ"
   },
   "outputs": [],
   "source": [
    "q13c = \"\"\"\n",
    "SELECT c.zipcode, c.category_name, c.sum_qty\n",
    "FROM zip_cate_sum c, zip_cate_sum_max b\n",
    "WHERE b.zipcode = c.zipcode AND b.max_qty = c.sum_qty\n",
    "ORDER BY c.sum_qty desc\n",
    "LIMIT 5;\n",
    "\"\"\"\n",
    "runq(q13c)"
   ]
  },
  {
   "cell_type": "markdown",
   "metadata": {
    "id": "sxoDKToveKnK"
   },
   "source": [
    "### The same as the above views, but as a single nested query"
   ]
  },
  {
   "cell_type": "code",
   "execution_count": null,
   "metadata": {
    "id": "gPeCwGageKnK",
    "scrolled": true
   },
   "outputs": [],
   "source": [
    "q13nested = \"\"\"\n",
    "select c.zipcode, c.category_name, c.qty\n",
    "from (\n",
    "    select a.zipcode, max(a.qty) qty\n",
    "    from (\n",
    "        select zipcode, category_name, sum(sale_bottles) qty\n",
    "        from iowa\n",
    "        group by zipcode, category_name\n",
    "    ) a\n",
    "    group by a.zipcode\n",
    ") b, \n",
    "(\n",
    "    select zipcode, category_name, sum(sale_bottles) qty\n",
    "    from iowa\n",
    "    group by zipcode, category_name\n",
    ") c\n",
    "where b.zipcode = c.zipcode and b.qty = c.qty\n",
    "order by c.qty desc\n",
    "limit 5;\n",
    "\"\"\"\n",
    "runq(q13nested)\n"
   ]
  },
  {
   "cell_type": "markdown",
   "metadata": {
    "id": "-QlcCzGEeKnK"
   },
   "source": [
    "### Answer\n",
    "\n",
    "```\n",
    "(zipcode, category_name, qty)\n",
    "\n",
    "0\t52402\tVODKA 80 PROOF\t72031.0\n",
    "1\t52240\tVODKA 80 PROOF\t63878.0\n",
    "2\t50314\tVODKA 80 PROOF\t58215.0\n",
    "3\t50320\tVODKA 80 PROOF\t54927.0\n",
    "4\t50010\tVODKA 80 PROOF\t47651.0\n",
    "```"
   ]
  },
  {
   "cell_type": "markdown",
   "metadata": {
    "id": "aEHmu16leKnL"
   },
   "source": [
    "### **Q1.4**: This problem has two steps, you only need to return the value from second step.\n",
    "\n",
    "__Compute the set of all liquors with the characters \"Lagavulin\" (in lowercase) in its description (`im_desc`). The attribute `itemno` is the one that can serve as a unique identifier for a specific liquor.__\n",
    "\n",
    "__Return the count of all distinct value of zipcode for all liquor stores that sold at least one of every type of Lagavulin as defined in the previous sentence.__\n",
    "\n",
    "a. The number of different Lagavulins be made into one table"
   ]
  },
  {
   "cell_type": "code",
   "execution_count": null,
   "metadata": {
    "id": "Pg-Gnz7reKnL"
   },
   "outputs": [],
   "source": [
    "q14a = \"\"\"\n",
    "CREATE OR REPLACE VIEW  item_ctn AS\n",
    "    SELECT COUNT(DISTINCT(itemno)) as item_cnt\n",
    "    FROM iowa\n",
    "    WHERE im_desc LIKE '%Lagavulin%'\n",
    "\"\"\"\n",
    "db.execute(q14)"
   ]
  },
  {
   "cell_type": "code",
   "execution_count": null,
   "metadata": {
    "id": "hngflslpeKnM"
   },
   "outputs": [],
   "source": [
    "runq(\"SELECT * FROM item_ctn limit 10;\")"
   ]
  },
  {
   "cell_type": "markdown",
   "metadata": {
    "id": "Pk_us2_BeKnM"
   },
   "source": [
    "b. with selection of Lagavulin on description, and `group by` store and item, \n",
    "we can aggregate total sale_bottles, so that this `sum(sale_bottles)` is the __total sold bottles of one type of Lagavulin at one store__"
   ]
  },
  {
   "cell_type": "code",
   "execution_count": null,
   "metadata": {
    "id": "kKs_9oereKnM"
   },
   "outputs": [],
   "source": [
    "q14b = \"\"\"CREATE OR REPLACE VIEW store_bottle_sum AS (\n",
    "    SELECT store, itemno, sum(sale_bottles) qty_sum \n",
    "    FROM iowa\n",
    "    WHERE im_desc LIKE '%Lagavulin%'\n",
    "    GROUP BY store, itemno\n",
    ") \n",
    "\"\"\"\n",
    "runq(q14b)\n"
   ]
  },
  {
   "cell_type": "markdown",
   "metadata": {
    "id": "jegHC-wWeKnM"
   },
   "source": [
    "c. We can select from `store_bottle_sum` table with qty_sum >= 2, to find out whether the sum bottle qty of a given type of Lagavulin in a given is qualified.\n",
    "\n",
    "After this SELECTION, we can apply a `GROUP BY` on store to get the total qualfied number of Lagavulin of a given store."
   ]
  },
  {
   "cell_type": "code",
   "execution_count": null,
   "metadata": {
    "id": "SanLHBQJeKnN"
   },
   "outputs": [],
   "source": [
    "q14c = \"\"\"CREATE OR REPLACE VIEW store_qualified_item AS (\n",
    "    SELECT stbs.store, count(*) n_qualified\n",
    "    FROM store_bottle_sum stbs\n",
    "    WHERE stbs.qty_sum >= 1\n",
    "    GROUP BY stbs.store\n",
    ")\"\"\"\n",
    "runq(q14c)\n"
   ]
  },
  {
   "cell_type": "markdown",
   "metadata": {
    "id": "pYBw-3ddeKnN"
   },
   "source": [
    "d. Join `store_qualified_tequila_item` and `tequila_item_ctn` to find out qualified store"
   ]
  },
  {
   "cell_type": "code",
   "execution_count": null,
   "metadata": {
    "id": "_qDlr6eZeKnN"
   },
   "outputs": [],
   "source": [
    "q14d = \"\"\"CREATE OR REPLACE VIEW qualified_store AS (\n",
    "    SELECT sqti.store \n",
    "    FROM store_qualified_item sqti, item_ctn tic\n",
    "    WHERE sqti.n_qualified = tic.item_cnt\n",
    ") \n",
    "\"\"\"\n",
    "runq(q14d)"
   ]
  },
  {
   "cell_type": "markdown",
   "metadata": {
    "id": "v2kjSFOzeKnN"
   },
   "source": [
    "e. finally, join `qualified_store` on `iowa` to count distinct zipcode"
   ]
  },
  {
   "cell_type": "code",
   "execution_count": 79,
   "metadata": {
    "colab": {
     "base_uri": "https://localhost:8080/"
    },
    "executionInfo": {
     "elapsed": 363,
     "status": "ok",
     "timestamp": 1642098553194,
     "user": {
      "displayName": "Eugene Wu",
      "photoUrl": "https://lh3.googleusercontent.com/a-/AOh14Gj9qqlMfUs2F6tn5jT3Gxzqkd5IP8SZ6t4sHKzs-Q=s64",
      "userId": "16895525559833652316"
     },
     "user_tz": 300
    },
    "id": "EVWuvioCeKnN",
    "outputId": "15f57a53-06bd-4ae7-8cd6-9940af590c90"
   },
   "outputs": [
    {
     "name": "stdout",
     "output_type": "stream",
     "text": [
      "   count(i.zipcode)\n",
      "0                 2\n"
     ]
    }
   ],
   "source": [
    "q14e = \"\"\"\n",
    "SELECT count(distinct(i.zipcode))\n",
    "FROM qualified_store qs, iowa i\n",
    "WHERE qs.store = i.store;\n",
    "\"\"\"\n",
    "runq(q14e)"
   ]
  },
  {
   "cell_type": "markdown",
   "metadata": {
    "id": "WB5ST4gHeKnO"
   },
   "source": [
    "### A nested query version of the above\n",
    "\n"
   ]
  },
  {
   "cell_type": "code",
   "execution_count": null,
   "metadata": {
    "id": "HdUCeaKmeKnO",
    "scrolled": true
   },
   "outputs": [],
   "source": [
    "q14nested = \"\"\"\n",
    "-- zip of all stores that have sold at least 2 of each Lagavolun, having Lagavulin in description\n",
    "\n",
    "select count(distinct(e.zipcode))\n",
    "from \n",
    "(\n",
    "    select b.store, b.ctn\n",
    "    from (\n",
    "        select a.store, count(1) ctn\n",
    "        from (\n",
    "            select store, itemno, sum(sale_bottles) ctn\n",
    "            from iowa\n",
    "            where im_desc like '%Lagavulin%'\n",
    "            group by store, itemno\n",
    "        ) a\n",
    "        where a.ctn >= 1\n",
    "        group by a.store\n",
    "    ) b, \n",
    "    (\n",
    "        select count(distinct(itemno)) ctn\n",
    "        from iowa\n",
    "        where im_desc like '%Lagavulin%'\n",
    "    ) c\n",
    "    where b.ctn = c.ctn\n",
    ") d\n",
    "join iowa e\n",
    "on e.store = d.store;\n",
    "\"\"\"\n",
    "runq(q14nested)"
   ]
  },
  {
   "cell_type": "markdown",
   "metadata": {
    "id": "EAofuOfleKnO"
   },
   "source": [
    "### Answer:\n",
    "\n",
    "count: 2"
   ]
  },
  {
   "cell_type": "markdown",
   "metadata": {
    "id": "DMYfMQXpeKnO"
   },
   "source": [
    "### **Q1.5:** What is the item attribute of the liquor with the highest state bottle cost, (as defined below), across all of iowa?\n",
    "\n",
    "\n",
    "First, let's try to compute the sum of the `state_bottle_retail` attribute.  What happens when you execute the following cell?"
   ]
  },
  {
   "cell_type": "code",
   "execution_count": null,
   "metadata": {
    "id": "lz8ztHEtnrIe"
   },
   "outputs": [],
   "source": [
    "runq(\"select sum(state_bottle_retail) from iowa\")"
   ]
  },
  {
   "cell_type": "markdown",
   "metadata": {
    "id": "7Dtb40iOodCr"
   },
   "source": [
    "Uh oh, the query throws an error!  To debug, let's take a look at the data:"
   ]
  },
  {
   "cell_type": "code",
   "execution_count": null,
   "metadata": {
    "id": "PMvEEQzGodbq"
   },
   "outputs": [],
   "source": [
    "runq(\"select bottle_volume_ml from iowa\")"
   ]
  },
  {
   "cell_type": "markdown",
   "metadata": {
    "id": "kNmWAExlopwR"
   },
   "source": [
    "Notice that the `state_bottle_retail` values have a `$` character!  That means the attribute is actually a `text` type, rather than a number!   \n",
    "\n",
    "a. Write the correct query to sum the `state_bottle_retail` attribute.    You will want to write an expression that 1) removes the `$` character and 2) casts the string into a `numeric` type.\n",
    "\n",
    "Take a look at the duckdb documentation for [text functions](https://duckdb.org/docs/sql/functions/char) and [casting data types](https://duckdb.org/docs/sql/expressions/cast)"
   ]
  },
  {
   "cell_type": "code",
   "execution_count": null,
   "metadata": {
    "id": "Zj9RqktdpBPN"
   },
   "outputs": [],
   "source": [
    "q15a = \"\"\"\n",
    "select sum(state_bottle_retail[1:]::numeric) as sum from iowa\n",
    "\"\"\"\n",
    "runq(q15a)"
   ]
  },
  {
   "cell_type": "markdown",
   "metadata": {
    "id": "7Ylq5JTPoH9H"
   },
   "source": [
    "b. `GROUP BY` store and item to compute average state_bottle_retail per bottle_volume_ml for an item within store"
   ]
  },
  {
   "cell_type": "code",
   "execution_count": null,
   "metadata": {
    "id": "36CcUNYOeKnP"
   },
   "outputs": [],
   "source": [
    "q15b = \"\"\"CREATE OR REPLACE VIEW storewise_cost AS\n",
    "SELECT store, itemno, avg(state_bottle_retail[1:]::numeric/bottle_volume_ml) as cost \n",
    "FROM iowa\n",
    "WHERE bottle_volume_ml > 0\n",
    "GROUP BY store, itemno;\n",
    "\"\"\"\n",
    "runq(q15b)"
   ]
  },
  {
   "cell_type": "markdown",
   "metadata": {
    "id": "xcg9pR9LeKnP"
   },
   "source": [
    "c. average across store for final result"
   ]
  },
  {
   "cell_type": "code",
   "execution_count": null,
   "metadata": {
    "id": "4OHqm8JseKnP"
   },
   "outputs": [],
   "source": [
    "q15c = \"\"\"\n",
    "SELECT s.itemno, avg(s.cost) overall_cost\n",
    "FROM storewise_cost s\n",
    "GROUP BY itemno\n",
    "ORDER BY avg(s.cost) DESC\n",
    "LIMIT 1;\n",
    "\"\"\"\n",
    "runq(q15c)"
   ]
  },
  {
   "cell_type": "markdown",
   "metadata": {
    "id": "CM4OEmgqeKnP"
   },
   "source": [
    "### Nested query version of the above"
   ]
  },
  {
   "cell_type": "code",
   "execution_count": null,
   "metadata": {
    "id": "nWCi5cnReKnQ"
   },
   "outputs": [],
   "source": [
    "q15nested = \"\"\"\n",
    "select itemno, avg(per_store.cost) overall_cost\n",
    "from (\n",
    "    select store, itemno, avg(state_bottle_retail[1:]::numeric/bottle_volume_ml) as cost\n",
    "    from iowa\n",
    "    where bottle_volume_ml > 0\n",
    "    group by store, itemno\n",
    ") per_store\n",
    "group by itemno\n",
    "order by avg(per_store.cost) desc\n",
    "limit 1;\n",
    "\"\"\"\n",
    "runq(q15nested)"
   ]
  },
  {
   "cell_type": "markdown",
   "metadata": {
    "id": "G9cYk_qieKnR"
   },
   "source": [
    "### Answer\n",
    "\n",
    "itemno: 927368"
   ]
  },
  {
   "cell_type": "markdown",
   "metadata": {
    "id": "wKhRApugeKnR"
   },
   "source": [
    "### Q1.6 (Answer not Limited to those)\n",
    "`Python Pros:`\n",
    "\n",
    "Python can perform more complicated logic on data, for example we can implement algorithms in an imperative \n",
    "programming language such as Python but not in SQL.\n",
    "\n",
    "With python, we can achieve complex data visualizations over web applications, which cannot be done through SQL.\n",
    "\n",
    "`Python Cons:`\n",
    "\n",
    "Python syntax on data manipulate is obscure sometimes.\n",
    "\n",
    "Python data manipulate is hard to recover and rollback.\n",
    "\n",
    "\n",
    "`SQL Pros:`\n",
    "\n",
    "SQL is specialized to data transformations.\n",
    "\n",
    "SQL is safer and more efficient because DBMS knows how to analyze it.\n",
    "\n",
    "SQL provides ACID properties for transactions in database.\n",
    "\n",
    "`SQL Cons`:\n",
    "\n",
    "Require cross-language data pipeline for brining SQL analysis into product."
   ]
  }
 ],
 "metadata": {
  "anaconda-cloud": {},
  "colab": {
   "name": "hw3_sol.ipynb",
   "provenance": []
  },
  "kernelspec": {
   "display_name": "Python 3",
   "language": "python",
   "name": "python3"
  },
  "language_info": {
   "codemirror_mode": {
    "name": "ipython",
    "version": 3
   },
   "file_extension": ".py",
   "mimetype": "text/x-python",
   "name": "python",
   "nbconvert_exporter": "python",
   "pygments_lexer": "ipython3",
   "version": "3.8.2"
  }
 },
 "nbformat": 4,
 "nbformat_minor": 1
}
